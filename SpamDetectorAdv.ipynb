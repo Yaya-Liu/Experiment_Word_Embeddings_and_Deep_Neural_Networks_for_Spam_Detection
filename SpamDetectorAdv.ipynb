{
 "cells": [
  {
   "cell_type": "code",
   "execution_count": 442,
   "id": "ad2be6b9",
   "metadata": {},
   "outputs": [],
   "source": [
    "import nltk\n",
    "import pandas as pd"
   ]
  },
  {
   "cell_type": "markdown",
   "id": "0be72c27",
   "metadata": {},
   "source": [
    "## Read dataset"
   ]
  },
  {
   "cell_type": "code",
   "execution_count": 443,
   "id": "8ae3da2b",
   "metadata": {
    "scrolled": true
   },
   "outputs": [
    {
     "name": "stdout",
     "output_type": "stream",
     "text": [
      "Index(['v1', 'v2', 'Unnamed: 2', 'Unnamed: 3', 'Unnamed: 4'], dtype='object')\n"
     ]
    },
    {
     "data": {
      "text/html": [
       "<div>\n",
       "<style scoped>\n",
       "    .dataframe tbody tr th:only-of-type {\n",
       "        vertical-align: middle;\n",
       "    }\n",
       "\n",
       "    .dataframe tbody tr th {\n",
       "        vertical-align: top;\n",
       "    }\n",
       "\n",
       "    .dataframe thead th {\n",
       "        text-align: right;\n",
       "    }\n",
       "</style>\n",
       "<table border=\"1\" class=\"dataframe\">\n",
       "  <thead>\n",
       "    <tr style=\"text-align: right;\">\n",
       "      <th></th>\n",
       "      <th>v1</th>\n",
       "      <th>v2</th>\n",
       "      <th>Unnamed: 2</th>\n",
       "      <th>Unnamed: 3</th>\n",
       "      <th>Unnamed: 4</th>\n",
       "    </tr>\n",
       "  </thead>\n",
       "  <tbody>\n",
       "    <tr>\n",
       "      <th>0</th>\n",
       "      <td>ham</td>\n",
       "      <td>Go until jurong point, crazy.. Available only in bugis n great world la e buffet... Cine there got amore wat...</td>\n",
       "      <td>NaN</td>\n",
       "      <td>NaN</td>\n",
       "      <td>NaN</td>\n",
       "    </tr>\n",
       "    <tr>\n",
       "      <th>1</th>\n",
       "      <td>ham</td>\n",
       "      <td>Ok lar... Joking wif u oni...</td>\n",
       "      <td>NaN</td>\n",
       "      <td>NaN</td>\n",
       "      <td>NaN</td>\n",
       "    </tr>\n",
       "    <tr>\n",
       "      <th>2</th>\n",
       "      <td>spam</td>\n",
       "      <td>Free entry in 2 a wkly comp to win FA Cup final tkts 21st May 2005. Text FA to 87121 to receive entry question(std txt rate)T&amp;C's apply 0845281007...</td>\n",
       "      <td>NaN</td>\n",
       "      <td>NaN</td>\n",
       "      <td>NaN</td>\n",
       "    </tr>\n",
       "    <tr>\n",
       "      <th>3</th>\n",
       "      <td>ham</td>\n",
       "      <td>U dun say so early hor... U c already then say...</td>\n",
       "      <td>NaN</td>\n",
       "      <td>NaN</td>\n",
       "      <td>NaN</td>\n",
       "    </tr>\n",
       "    <tr>\n",
       "      <th>4</th>\n",
       "      <td>ham</td>\n",
       "      <td>Nah I don't think he goes to usf, he lives around here though</td>\n",
       "      <td>NaN</td>\n",
       "      <td>NaN</td>\n",
       "      <td>NaN</td>\n",
       "    </tr>\n",
       "  </tbody>\n",
       "</table>\n",
       "</div>"
      ],
      "text/plain": [
       "     v1  \\\n",
       "0   ham   \n",
       "1   ham   \n",
       "2  spam   \n",
       "3   ham   \n",
       "4   ham   \n",
       "\n",
       "                                                                                                                                                      v2  \\\n",
       "0                                        Go until jurong point, crazy.. Available only in bugis n great world la e buffet... Cine there got amore wat...   \n",
       "1                                                                                                                          Ok lar... Joking wif u oni...   \n",
       "2  Free entry in 2 a wkly comp to win FA Cup final tkts 21st May 2005. Text FA to 87121 to receive entry question(std txt rate)T&C's apply 0845281007...   \n",
       "3                                                                                                      U dun say so early hor... U c already then say...   \n",
       "4                                                                                          Nah I don't think he goes to usf, he lives around here though   \n",
       "\n",
       "  Unnamed: 2 Unnamed: 3 Unnamed: 4  \n",
       "0        NaN        NaN        NaN  \n",
       "1        NaN        NaN        NaN  \n",
       "2        NaN        NaN        NaN  \n",
       "3        NaN        NaN        NaN  \n",
       "4        NaN        NaN        NaN  "
      ]
     },
     "execution_count": 443,
     "metadata": {},
     "output_type": "execute_result"
    }
   ],
   "source": [
    "messages = pd.read_csv('python_data/spam.csv', encoding = 'latin-1')\n",
    "\n",
    "print(messages.columns)\n",
    "messages.head()"
   ]
  },
  {
   "cell_type": "markdown",
   "id": "d8724c1f",
   "metadata": {},
   "source": [
    "## Data exploration"
   ]
  },
  {
   "cell_type": "code",
   "execution_count": 444,
   "id": "6b3c905b",
   "metadata": {},
   "outputs": [
    {
     "data": {
      "text/html": [
       "<div>\n",
       "<style scoped>\n",
       "    .dataframe tbody tr th:only-of-type {\n",
       "        vertical-align: middle;\n",
       "    }\n",
       "\n",
       "    .dataframe tbody tr th {\n",
       "        vertical-align: top;\n",
       "    }\n",
       "\n",
       "    .dataframe thead th {\n",
       "        text-align: right;\n",
       "    }\n",
       "</style>\n",
       "<table border=\"1\" class=\"dataframe\">\n",
       "  <thead>\n",
       "    <tr style=\"text-align: right;\">\n",
       "      <th></th>\n",
       "      <th>label</th>\n",
       "      <th>text</th>\n",
       "    </tr>\n",
       "  </thead>\n",
       "  <tbody>\n",
       "    <tr>\n",
       "      <th>0</th>\n",
       "      <td>ham</td>\n",
       "      <td>Go until jurong point, crazy.. Available only in bugis n great world la e buffet... Cine there got amore wat...</td>\n",
       "    </tr>\n",
       "    <tr>\n",
       "      <th>1</th>\n",
       "      <td>ham</td>\n",
       "      <td>Ok lar... Joking wif u oni...</td>\n",
       "    </tr>\n",
       "    <tr>\n",
       "      <th>2</th>\n",
       "      <td>spam</td>\n",
       "      <td>Free entry in 2 a wkly comp to win FA Cup final tkts 21st May 2005. Text FA to 87121 to receive entry question(std txt rate)T&amp;C's apply 0845281007...</td>\n",
       "    </tr>\n",
       "    <tr>\n",
       "      <th>3</th>\n",
       "      <td>ham</td>\n",
       "      <td>U dun say so early hor... U c already then say...</td>\n",
       "    </tr>\n",
       "    <tr>\n",
       "      <th>4</th>\n",
       "      <td>ham</td>\n",
       "      <td>Nah I don't think he goes to usf, he lives around here though</td>\n",
       "    </tr>\n",
       "  </tbody>\n",
       "</table>\n",
       "</div>"
      ],
      "text/plain": [
       "  label  \\\n",
       "0   ham   \n",
       "1   ham   \n",
       "2  spam   \n",
       "3   ham   \n",
       "4   ham   \n",
       "\n",
       "                                                                                                                                                    text  \n",
       "0                                        Go until jurong point, crazy.. Available only in bugis n great world la e buffet... Cine there got amore wat...  \n",
       "1                                                                                                                          Ok lar... Joking wif u oni...  \n",
       "2  Free entry in 2 a wkly comp to win FA Cup final tkts 21st May 2005. Text FA to 87121 to receive entry question(std txt rate)T&C's apply 0845281007...  \n",
       "3                                                                                                      U dun say so early hor... U c already then say...  \n",
       "4                                                                                          Nah I don't think he goes to usf, he lives around here though  "
      ]
     },
     "execution_count": 444,
     "metadata": {},
     "output_type": "execute_result"
    }
   ],
   "source": [
    "messages = messages.drop(columns = ['Unnamed: 2', 'Unnamed: 3', 'Unnamed: 4'], axis = 1) #columns = ['Unnamed: 2', 'Unnamed: 2', 'Unnamed: 2'], axis = 1)\n",
    "messages.columns = ['label', 'text']\n",
    "messages.head()"
   ]
  },
  {
   "cell_type": "code",
   "execution_count": 445,
   "id": "e8e543b8",
   "metadata": {},
   "outputs": [
    {
     "data": {
      "text/plain": [
       "(5572, 2)"
      ]
     },
     "execution_count": 445,
     "metadata": {},
     "output_type": "execute_result"
    }
   ],
   "source": [
    "messages.shape"
   ]
  },
  {
   "cell_type": "code",
   "execution_count": 446,
   "id": "7dc3d7ad",
   "metadata": {},
   "outputs": [
    {
     "data": {
      "text/plain": [
       "ham     4825\n",
       "spam     747\n",
       "Name: label, dtype: int64"
      ]
     },
     "execution_count": 446,
     "metadata": {},
     "output_type": "execute_result"
    }
   ],
   "source": [
    "messages['label'].value_counts()"
   ]
  },
  {
   "cell_type": "code",
   "execution_count": 447,
   "id": "25c63570",
   "metadata": {},
   "outputs": [
    {
     "name": "stdout",
     "output_type": "stream",
     "text": [
      "0\n",
      "0\n"
     ]
    }
   ],
   "source": [
    "print(messages['label'].isnull().sum())   # no null values in column 'label'\n",
    "print(messages['text'].isnull().sum())   # no null values in column 'text'"
   ]
  },
  {
   "cell_type": "markdown",
   "id": "a842055a",
   "metadata": {},
   "source": [
    "## Data cleaning"
   ]
  },
  {
   "cell_type": "code",
   "execution_count": 448,
   "id": "14a4713f",
   "metadata": {},
   "outputs": [
    {
     "data": {
      "text/html": [
       "<div>\n",
       "<style scoped>\n",
       "    .dataframe tbody tr th:only-of-type {\n",
       "        vertical-align: middle;\n",
       "    }\n",
       "\n",
       "    .dataframe tbody tr th {\n",
       "        vertical-align: top;\n",
       "    }\n",
       "\n",
       "    .dataframe thead th {\n",
       "        text-align: right;\n",
       "    }\n",
       "</style>\n",
       "<table border=\"1\" class=\"dataframe\">\n",
       "  <thead>\n",
       "    <tr style=\"text-align: right;\">\n",
       "      <th></th>\n",
       "      <th>label</th>\n",
       "      <th>text</th>\n",
       "    </tr>\n",
       "  </thead>\n",
       "  <tbody>\n",
       "    <tr>\n",
       "      <th>0</th>\n",
       "      <td>ham</td>\n",
       "      <td>Go until jurong point, crazy.. Available only in bugis n great world la e buffet... Cine there got amore wat...</td>\n",
       "    </tr>\n",
       "    <tr>\n",
       "      <th>1</th>\n",
       "      <td>ham</td>\n",
       "      <td>Ok lar... Joking wif u oni...</td>\n",
       "    </tr>\n",
       "    <tr>\n",
       "      <th>2</th>\n",
       "      <td>spam</td>\n",
       "      <td>Free entry in 2 a wkly comp to win FA Cup final tkts 21st May 2005. Text FA to 87121 to receive entry question(std txt rate)T&amp;C's apply 0845281007...</td>\n",
       "    </tr>\n",
       "    <tr>\n",
       "      <th>3</th>\n",
       "      <td>ham</td>\n",
       "      <td>U dun say so early hor... U c already then say...</td>\n",
       "    </tr>\n",
       "    <tr>\n",
       "      <th>4</th>\n",
       "      <td>ham</td>\n",
       "      <td>Nah I don't think he goes to usf, he lives around here though</td>\n",
       "    </tr>\n",
       "  </tbody>\n",
       "</table>\n",
       "</div>"
      ],
      "text/plain": [
       "  label  \\\n",
       "0   ham   \n",
       "1   ham   \n",
       "2  spam   \n",
       "3   ham   \n",
       "4   ham   \n",
       "\n",
       "                                                                                                                                                    text  \n",
       "0                                        Go until jurong point, crazy.. Available only in bugis n great world la e buffet... Cine there got amore wat...  \n",
       "1                                                                                                                          Ok lar... Joking wif u oni...  \n",
       "2  Free entry in 2 a wkly comp to win FA Cup final tkts 21st May 2005. Text FA to 87121 to receive entry question(std txt rate)T&C's apply 0845281007...  \n",
       "3                                                                                                      U dun say so early hor... U c already then say...  \n",
       "4                                                                                          Nah I don't think he goes to usf, he lives around here though  "
      ]
     },
     "execution_count": 448,
     "metadata": {},
     "output_type": "execute_result"
    }
   ],
   "source": [
    "pd.set_option('display.max_colwidth', 150)\n",
    "messages.head()"
   ]
  },
  {
   "cell_type": "code",
   "execution_count": 449,
   "id": "e3a3191f",
   "metadata": {},
   "outputs": [
    {
     "data": {
      "text/html": [
       "<div>\n",
       "<style scoped>\n",
       "    .dataframe tbody tr th:only-of-type {\n",
       "        vertical-align: middle;\n",
       "    }\n",
       "\n",
       "    .dataframe tbody tr th {\n",
       "        vertical-align: top;\n",
       "    }\n",
       "\n",
       "    .dataframe thead th {\n",
       "        text-align: right;\n",
       "    }\n",
       "</style>\n",
       "<table border=\"1\" class=\"dataframe\">\n",
       "  <thead>\n",
       "    <tr style=\"text-align: right;\">\n",
       "      <th></th>\n",
       "      <th>label</th>\n",
       "      <th>text</th>\n",
       "    </tr>\n",
       "  </thead>\n",
       "  <tbody>\n",
       "    <tr>\n",
       "      <th>0</th>\n",
       "      <td>ham</td>\n",
       "      <td>Go until jurong point, crazy.. Available only in bugis n great world la e buffet... Cine there got amore wat...</td>\n",
       "    </tr>\n",
       "    <tr>\n",
       "      <th>1</th>\n",
       "      <td>ham</td>\n",
       "      <td>Ok lar... Joking wif u oni...</td>\n",
       "    </tr>\n",
       "    <tr>\n",
       "      <th>2</th>\n",
       "      <td>spam</td>\n",
       "      <td>Free entry in 2 a wkly comp to win FA Cup final tkts 21st May 2005. Text FA to 87121 to receive entry question(std txt rate)T&amp;C's apply 0845281007...</td>\n",
       "    </tr>\n",
       "    <tr>\n",
       "      <th>3</th>\n",
       "      <td>ham</td>\n",
       "      <td>U dun say so early hor... U c already then say...</td>\n",
       "    </tr>\n",
       "    <tr>\n",
       "      <th>4</th>\n",
       "      <td>ham</td>\n",
       "      <td>Nah I don't think he goes to usf, he lives around here though</td>\n",
       "    </tr>\n",
       "  </tbody>\n",
       "</table>\n",
       "</div>"
      ],
      "text/plain": [
       "  label  \\\n",
       "0   ham   \n",
       "1   ham   \n",
       "2  spam   \n",
       "3   ham   \n",
       "4   ham   \n",
       "\n",
       "                                                                                                                                                    text  \n",
       "0                                        Go until jurong point, crazy.. Available only in bugis n great world la e buffet... Cine there got amore wat...  \n",
       "1                                                                                                                          Ok lar... Joking wif u oni...  \n",
       "2  Free entry in 2 a wkly comp to win FA Cup final tkts 21st May 2005. Text FA to 87121 to receive entry question(std txt rate)T&C's apply 0845281007...  \n",
       "3                                                                                                      U dun say so early hor... U c already then say...  \n",
       "4                                                                                          Nah I don't think he goes to usf, he lives around here though  "
      ]
     },
     "execution_count": 449,
     "metadata": {},
     "output_type": "execute_result"
    }
   ],
   "source": [
    "import string, re\n",
    "\n",
    "stopwords = nltk.corpus.stopwords.words('english')\n",
    "\n",
    "def clean_text(text):\n",
    "    text = ''.join([char.lower() for char in text if char not in string.punctuation])\n",
    "    tokens = re.split('\\W+', text)\n",
    "    text_nostop = [word for word in tokens if word not in stopwords]\n",
    "    return text_nostop\n",
    "\n",
    "#messages['text_nostop'] = messages['text'].apply(lambda x : clean_text(x))\n",
    "\n",
    "messages.head()"
   ]
  },
  {
   "cell_type": "markdown",
   "id": "653d0aee",
   "metadata": {},
   "source": [
    "## TfidfVectorizer"
   ]
  },
  {
   "cell_type": "code",
   "execution_count": 555,
   "id": "0bc66f10",
   "metadata": {},
   "outputs": [
    {
     "name": "stdout",
     "output_type": "stream",
     "text": [
      "(5572, 9395)\n",
      "['' '0' '008704050406' ... 'ûïharry' 'ûò' 'ûówell']\n"
     ]
    }
   ],
   "source": [
    "from sklearn.feature_extraction.text import TfidfVectorizer\n",
    "\n",
    "tfidf_vect = TfidfVectorizer(analyzer = clean_text)\n",
    "X_tfidf = tfidf_vect.fit_transform(messages['text'])\n",
    "\n",
    "print(X_tfidf.shape)\n",
    "print(tfidf_vect.get_feature_names_out())"
   ]
  },
  {
   "cell_type": "code",
   "execution_count": 451,
   "id": "61d03e42",
   "metadata": {},
   "outputs": [
    {
     "data": {
      "text/html": [
       "<div>\n",
       "<style scoped>\n",
       "    .dataframe tbody tr th:only-of-type {\n",
       "        vertical-align: middle;\n",
       "    }\n",
       "\n",
       "    .dataframe tbody tr th {\n",
       "        vertical-align: top;\n",
       "    }\n",
       "\n",
       "    .dataframe thead th {\n",
       "        text-align: right;\n",
       "    }\n",
       "</style>\n",
       "<table border=\"1\" class=\"dataframe\">\n",
       "  <thead>\n",
       "    <tr style=\"text-align: right;\">\n",
       "      <th></th>\n",
       "      <th>0</th>\n",
       "      <th>1</th>\n",
       "      <th>2</th>\n",
       "      <th>3</th>\n",
       "      <th>4</th>\n",
       "      <th>5</th>\n",
       "      <th>6</th>\n",
       "      <th>7</th>\n",
       "      <th>8</th>\n",
       "      <th>9</th>\n",
       "      <th>...</th>\n",
       "      <th>9385</th>\n",
       "      <th>9386</th>\n",
       "      <th>9387</th>\n",
       "      <th>9388</th>\n",
       "      <th>9389</th>\n",
       "      <th>9390</th>\n",
       "      <th>9391</th>\n",
       "      <th>9392</th>\n",
       "      <th>9393</th>\n",
       "      <th>9394</th>\n",
       "    </tr>\n",
       "  </thead>\n",
       "  <tbody>\n",
       "    <tr>\n",
       "      <th>0</th>\n",
       "      <td>0.0</td>\n",
       "      <td>0.0</td>\n",
       "      <td>0.0</td>\n",
       "      <td>0.0</td>\n",
       "      <td>0.0</td>\n",
       "      <td>0.0</td>\n",
       "      <td>0.0</td>\n",
       "      <td>0.0</td>\n",
       "      <td>0.0</td>\n",
       "      <td>0.0</td>\n",
       "      <td>...</td>\n",
       "      <td>0.0</td>\n",
       "      <td>0.0</td>\n",
       "      <td>0.0</td>\n",
       "      <td>0.0</td>\n",
       "      <td>0.0</td>\n",
       "      <td>0.0</td>\n",
       "      <td>0.0</td>\n",
       "      <td>0.0</td>\n",
       "      <td>0.0</td>\n",
       "      <td>0.0</td>\n",
       "    </tr>\n",
       "    <tr>\n",
       "      <th>1</th>\n",
       "      <td>0.0</td>\n",
       "      <td>0.0</td>\n",
       "      <td>0.0</td>\n",
       "      <td>0.0</td>\n",
       "      <td>0.0</td>\n",
       "      <td>0.0</td>\n",
       "      <td>0.0</td>\n",
       "      <td>0.0</td>\n",
       "      <td>0.0</td>\n",
       "      <td>0.0</td>\n",
       "      <td>...</td>\n",
       "      <td>0.0</td>\n",
       "      <td>0.0</td>\n",
       "      <td>0.0</td>\n",
       "      <td>0.0</td>\n",
       "      <td>0.0</td>\n",
       "      <td>0.0</td>\n",
       "      <td>0.0</td>\n",
       "      <td>0.0</td>\n",
       "      <td>0.0</td>\n",
       "      <td>0.0</td>\n",
       "    </tr>\n",
       "    <tr>\n",
       "      <th>2</th>\n",
       "      <td>0.0</td>\n",
       "      <td>0.0</td>\n",
       "      <td>0.0</td>\n",
       "      <td>0.0</td>\n",
       "      <td>0.0</td>\n",
       "      <td>0.0</td>\n",
       "      <td>0.0</td>\n",
       "      <td>0.0</td>\n",
       "      <td>0.0</td>\n",
       "      <td>0.0</td>\n",
       "      <td>...</td>\n",
       "      <td>0.0</td>\n",
       "      <td>0.0</td>\n",
       "      <td>0.0</td>\n",
       "      <td>0.0</td>\n",
       "      <td>0.0</td>\n",
       "      <td>0.0</td>\n",
       "      <td>0.0</td>\n",
       "      <td>0.0</td>\n",
       "      <td>0.0</td>\n",
       "      <td>0.0</td>\n",
       "    </tr>\n",
       "    <tr>\n",
       "      <th>3</th>\n",
       "      <td>0.0</td>\n",
       "      <td>0.0</td>\n",
       "      <td>0.0</td>\n",
       "      <td>0.0</td>\n",
       "      <td>0.0</td>\n",
       "      <td>0.0</td>\n",
       "      <td>0.0</td>\n",
       "      <td>0.0</td>\n",
       "      <td>0.0</td>\n",
       "      <td>0.0</td>\n",
       "      <td>...</td>\n",
       "      <td>0.0</td>\n",
       "      <td>0.0</td>\n",
       "      <td>0.0</td>\n",
       "      <td>0.0</td>\n",
       "      <td>0.0</td>\n",
       "      <td>0.0</td>\n",
       "      <td>0.0</td>\n",
       "      <td>0.0</td>\n",
       "      <td>0.0</td>\n",
       "      <td>0.0</td>\n",
       "    </tr>\n",
       "    <tr>\n",
       "      <th>4</th>\n",
       "      <td>0.0</td>\n",
       "      <td>0.0</td>\n",
       "      <td>0.0</td>\n",
       "      <td>0.0</td>\n",
       "      <td>0.0</td>\n",
       "      <td>0.0</td>\n",
       "      <td>0.0</td>\n",
       "      <td>0.0</td>\n",
       "      <td>0.0</td>\n",
       "      <td>0.0</td>\n",
       "      <td>...</td>\n",
       "      <td>0.0</td>\n",
       "      <td>0.0</td>\n",
       "      <td>0.0</td>\n",
       "      <td>0.0</td>\n",
       "      <td>0.0</td>\n",
       "      <td>0.0</td>\n",
       "      <td>0.0</td>\n",
       "      <td>0.0</td>\n",
       "      <td>0.0</td>\n",
       "      <td>0.0</td>\n",
       "    </tr>\n",
       "  </tbody>\n",
       "</table>\n",
       "<p>5 rows × 9395 columns</p>\n",
       "</div>"
      ],
      "text/plain": [
       "   0     1     2     3     4     5     6     7     8     9     ...  9385  \\\n",
       "0   0.0   0.0   0.0   0.0   0.0   0.0   0.0   0.0   0.0   0.0  ...   0.0   \n",
       "1   0.0   0.0   0.0   0.0   0.0   0.0   0.0   0.0   0.0   0.0  ...   0.0   \n",
       "2   0.0   0.0   0.0   0.0   0.0   0.0   0.0   0.0   0.0   0.0  ...   0.0   \n",
       "3   0.0   0.0   0.0   0.0   0.0   0.0   0.0   0.0   0.0   0.0  ...   0.0   \n",
       "4   0.0   0.0   0.0   0.0   0.0   0.0   0.0   0.0   0.0   0.0  ...   0.0   \n",
       "\n",
       "   9386  9387  9388  9389  9390  9391  9392  9393  9394  \n",
       "0   0.0   0.0   0.0   0.0   0.0   0.0   0.0   0.0   0.0  \n",
       "1   0.0   0.0   0.0   0.0   0.0   0.0   0.0   0.0   0.0  \n",
       "2   0.0   0.0   0.0   0.0   0.0   0.0   0.0   0.0   0.0  \n",
       "3   0.0   0.0   0.0   0.0   0.0   0.0   0.0   0.0   0.0  \n",
       "4   0.0   0.0   0.0   0.0   0.0   0.0   0.0   0.0   0.0  \n",
       "\n",
       "[5 rows x 9395 columns]"
      ]
     },
     "execution_count": 451,
     "metadata": {},
     "output_type": "execute_result"
    }
   ],
   "source": [
    "X_features = pd.DataFrame(X_tfidf.toarray())\n",
    "X_features.head()"
   ]
  },
  {
   "cell_type": "markdown",
   "id": "86f102a9",
   "metadata": {},
   "source": [
    "## Random Forest Classifier"
   ]
  },
  {
   "cell_type": "code",
   "execution_count": 452,
   "id": "2270fa04",
   "metadata": {},
   "outputs": [],
   "source": [
    "from sklearn.ensemble import RandomForestClassifier\n",
    "from sklearn.metrics import precision_score, recall_score\n",
    "from sklearn.model_selection import train_test_split\n",
    "\n",
    "\n",
    "#dir(RandomForestClassifier)"
   ]
  },
  {
   "cell_type": "code",
   "execution_count": 453,
   "id": "acfaff9d",
   "metadata": {},
   "outputs": [],
   "source": [
    "X_train, X_test, y_train, y_test = train_test_split(X_features, messages['label'], test_size = 0.2)"
   ]
  },
  {
   "cell_type": "code",
   "execution_count": 454,
   "id": "b16569c0",
   "metadata": {},
   "outputs": [],
   "source": [
    "rf = RandomForestClassifier()  #(n_estimators = 100, max_depth = None, n_jobs = -1)"
   ]
  },
  {
   "cell_type": "code",
   "execution_count": 455,
   "id": "253d6dda",
   "metadata": {},
   "outputs": [],
   "source": [
    "rf_model = rf.fit(X_train, y_train)\n",
    "y_pred = rf_model.predict(X_test)"
   ]
  },
  {
   "cell_type": "code",
   "execution_count": 456,
   "id": "b0ec3f17",
   "metadata": {},
   "outputs": [
    {
     "name": "stdout",
     "output_type": "stream",
     "text": [
      "Precision: 1.0 / recall: 0.813\n"
     ]
    }
   ],
   "source": [
    "precision = precision_score(y_test, y_pred, pos_label = 'spam')\n",
    "recall = recall_score(y_test, y_pred, pos_label = 'spam')\n",
    "\n",
    "print('Precision: {} / recall: {}'.format(round(precision, 3), round(recall, 3)))"
   ]
  },
  {
   "cell_type": "markdown",
   "id": "2a90fe51",
   "metadata": {},
   "source": [
    "## Word2Vec"
   ]
  },
  {
   "cell_type": "code",
   "execution_count": 457,
   "id": "955cc25c",
   "metadata": {},
   "outputs": [
    {
     "name": "stdout",
     "output_type": "stream",
     "text": [
      "Defaulting to user installation because normal site-packages is not writeable\n",
      "Requirement already satisfied: gensim in c:\\users\\yliu\\appdata\\roaming\\python\\python39\\site-packages (4.2.0)\n",
      "Requirement already satisfied: numpy>=1.17.0 in c:\\programdata\\anaconda3\\lib\\site-packages (from gensim) (1.21.5)\n",
      "Requirement already satisfied: Cython==0.29.28 in c:\\programdata\\anaconda3\\lib\\site-packages (from gensim) (0.29.28)\n",
      "Requirement already satisfied: smart-open>=1.8.1 in c:\\programdata\\anaconda3\\lib\\site-packages (from gensim) (5.1.0)\n",
      "Requirement already satisfied: scipy>=0.18.1 in c:\\programdata\\anaconda3\\lib\\site-packages (from gensim) (1.7.3)\n"
     ]
    }
   ],
   "source": [
    "!pip install -U gensim"
   ]
  },
  {
   "cell_type": "code",
   "execution_count": 458,
   "id": "f8fd9e22",
   "metadata": {},
   "outputs": [],
   "source": [
    "import gensim\n",
    "import gensim.downloader as api"
   ]
  },
  {
   "cell_type": "code",
   "execution_count": 459,
   "id": "498d5ea4",
   "metadata": {},
   "outputs": [],
   "source": [
    "wiki_embeddings = api.load('glove-wiki-gigaword-100')"
   ]
  },
  {
   "cell_type": "code",
   "execution_count": 460,
   "id": "d850a6b2",
   "metadata": {},
   "outputs": [
    {
     "data": {
      "text/plain": [
       "array([-0.32307 , -0.87616 ,  0.21977 ,  0.25268 ,  0.22976 ,  0.7388  ,\n",
       "       -0.37954 , -0.35307 , -0.84369 , -1.1113  , -0.30266 ,  0.33178 ,\n",
       "       -0.25113 ,  0.30448 , -0.077491, -0.89815 ,  0.092496, -1.1407  ,\n",
       "       -0.58324 ,  0.66869 , -0.23122 , -0.95855 ,  0.28262 , -0.078848,\n",
       "        0.75315 ,  0.26584 ,  0.3422  , -0.33949 ,  0.95608 ,  0.065641,\n",
       "        0.45747 ,  0.39835 ,  0.57965 ,  0.39267 , -0.21851 ,  0.58795 ,\n",
       "       -0.55999 ,  0.63368 , -0.043983, -0.68731 , -0.37841 ,  0.38026 ,\n",
       "        0.61641 , -0.88269 , -0.12346 , -0.37928 , -0.38318 ,  0.23868 ,\n",
       "        0.6685  , -0.43321 , -0.11065 ,  0.081723,  1.1569  ,  0.78958 ,\n",
       "       -0.21223 , -2.3211  , -0.67806 ,  0.44561 ,  0.65707 ,  0.1045  ,\n",
       "        0.46217 ,  0.19912 ,  0.25802 ,  0.057194,  0.53443 , -0.43133 ,\n",
       "       -0.34311 ,  0.59789 , -0.58417 ,  0.068995,  0.23944 , -0.85181 ,\n",
       "        0.30379 , -0.34177 , -0.25746 , -0.031101, -0.16285 ,  0.45169 ,\n",
       "       -0.91627 ,  0.64521 ,  0.73281 , -0.22752 ,  0.30226 ,  0.044801,\n",
       "       -0.83741 ,  0.55006 , -0.52506 , -1.7357  ,  0.4751  , -0.70487 ,\n",
       "        0.056939, -0.7132  ,  0.089623,  0.41394 , -1.3363  , -0.61915 ,\n",
       "       -0.33089 , -0.52881 ,  0.16483 , -0.98878 ], dtype=float32)"
      ]
     },
     "execution_count": 460,
     "metadata": {},
     "output_type": "execute_result"
    }
   ],
   "source": [
    "wiki_embeddings['king']"
   ]
  },
  {
   "cell_type": "code",
   "execution_count": 461,
   "id": "4d79733b",
   "metadata": {},
   "outputs": [
    {
     "data": {
      "text/plain": [
       "[('prince', 0.7682329416275024),\n",
       " ('queen', 0.7507690787315369),\n",
       " ('son', 0.7020888328552246),\n",
       " ('brother', 0.6985775828361511),\n",
       " ('monarch', 0.6977889537811279),\n",
       " ('throne', 0.6919989585876465),\n",
       " ('kingdom', 0.6811409592628479),\n",
       " ('father', 0.680202841758728),\n",
       " ('emperor', 0.6712857484817505),\n",
       " ('ii', 0.6676074266433716)]"
      ]
     },
     "execution_count": 461,
     "metadata": {},
     "output_type": "execute_result"
    }
   ],
   "source": [
    "wiki_embeddings.most_similar('king')"
   ]
  },
  {
   "cell_type": "code",
   "execution_count": 462,
   "id": "58797591",
   "metadata": {},
   "outputs": [
    {
     "data": {
      "text/html": [
       "<div>\n",
       "<style scoped>\n",
       "    .dataframe tbody tr th:only-of-type {\n",
       "        vertical-align: middle;\n",
       "    }\n",
       "\n",
       "    .dataframe tbody tr th {\n",
       "        vertical-align: top;\n",
       "    }\n",
       "\n",
       "    .dataframe thead th {\n",
       "        text-align: right;\n",
       "    }\n",
       "</style>\n",
       "<table border=\"1\" class=\"dataframe\">\n",
       "  <thead>\n",
       "    <tr style=\"text-align: right;\">\n",
       "      <th></th>\n",
       "      <th>label</th>\n",
       "      <th>text</th>\n",
       "      <th>text_clean_gensim</th>\n",
       "    </tr>\n",
       "  </thead>\n",
       "  <tbody>\n",
       "    <tr>\n",
       "      <th>0</th>\n",
       "      <td>ham</td>\n",
       "      <td>Go until jurong point, crazy.. Available only in bugis n great world la e buffet... Cine there got amore wat...</td>\n",
       "      <td>[go, until, jurong, point, crazy, available, only, in, bugis, great, world, la, buffet, cine, there, got, amore, wat]</td>\n",
       "    </tr>\n",
       "    <tr>\n",
       "      <th>1</th>\n",
       "      <td>ham</td>\n",
       "      <td>Ok lar... Joking wif u oni...</td>\n",
       "      <td>[ok, lar, joking, wif, oni]</td>\n",
       "    </tr>\n",
       "    <tr>\n",
       "      <th>2</th>\n",
       "      <td>spam</td>\n",
       "      <td>Free entry in 2 a wkly comp to win FA Cup final tkts 21st May 2005. Text FA to 87121 to receive entry question(std txt rate)T&amp;C's apply 0845281007...</td>\n",
       "      <td>[free, entry, in, wkly, comp, to, win, fa, cup, final, tkts, st, may, text, fa, to, to, receive, entry, question, std, txt, rate, apply, over]</td>\n",
       "    </tr>\n",
       "    <tr>\n",
       "      <th>3</th>\n",
       "      <td>ham</td>\n",
       "      <td>U dun say so early hor... U c already then say...</td>\n",
       "      <td>[dun, say, so, early, hor, already, then, say]</td>\n",
       "    </tr>\n",
       "    <tr>\n",
       "      <th>4</th>\n",
       "      <td>ham</td>\n",
       "      <td>Nah I don't think he goes to usf, he lives around here though</td>\n",
       "      <td>[nah, don, think, he, goes, to, usf, he, lives, around, here, though]</td>\n",
       "    </tr>\n",
       "  </tbody>\n",
       "</table>\n",
       "</div>"
      ],
      "text/plain": [
       "  label  \\\n",
       "0   ham   \n",
       "1   ham   \n",
       "2  spam   \n",
       "3   ham   \n",
       "4   ham   \n",
       "\n",
       "                                                                                                                                                    text  \\\n",
       "0                                        Go until jurong point, crazy.. Available only in bugis n great world la e buffet... Cine there got amore wat...   \n",
       "1                                                                                                                          Ok lar... Joking wif u oni...   \n",
       "2  Free entry in 2 a wkly comp to win FA Cup final tkts 21st May 2005. Text FA to 87121 to receive entry question(std txt rate)T&C's apply 0845281007...   \n",
       "3                                                                                                      U dun say so early hor... U c already then say...   \n",
       "4                                                                                          Nah I don't think he goes to usf, he lives around here though   \n",
       "\n",
       "                                                                                                                                text_clean_gensim  \n",
       "0                           [go, until, jurong, point, crazy, available, only, in, bugis, great, world, la, buffet, cine, there, got, amore, wat]  \n",
       "1                                                                                                                     [ok, lar, joking, wif, oni]  \n",
       "2  [free, entry, in, wkly, comp, to, win, fa, cup, final, tkts, st, may, text, fa, to, to, receive, entry, question, std, txt, rate, apply, over]  \n",
       "3                                                                                                  [dun, say, so, early, hor, already, then, say]  \n",
       "4                                                                           [nah, don, think, he, goes, to, usf, he, lives, around, here, though]  "
      ]
     },
     "execution_count": 462,
     "metadata": {},
     "output_type": "execute_result"
    }
   ],
   "source": [
    "messages['text_clean_gensim'] = messages['text'].apply(lambda x : gensim.utils.simple_preprocess(x))\n",
    "messages.head()"
   ]
  },
  {
   "cell_type": "code",
   "execution_count": 463,
   "id": "f69535a7",
   "metadata": {},
   "outputs": [],
   "source": [
    "X_train, X_test, y_train, y_test = train_test_split(messages['text_clean_gensim'], messages['label'], test_size = 0.2)"
   ]
  },
  {
   "cell_type": "code",
   "execution_count": 464,
   "id": "ef6de8dd",
   "metadata": {},
   "outputs": [],
   "source": [
    "w2v_model = gensim.models.Word2Vec(X_train, vector_size = 100, window = 5, min_count = 2)"
   ]
  },
  {
   "cell_type": "code",
   "execution_count": 465,
   "id": "50f21126",
   "metadata": {},
   "outputs": [
    {
     "data": {
      "text/plain": [
       "array([-3.0562928e-02,  7.0354141e-02,  3.4949709e-02, -8.4008463e-03,\n",
       "        2.8023813e-05, -1.1927729e-01,  5.2627463e-02,  1.6278061e-01,\n",
       "       -5.7258192e-02, -3.6508914e-02, -4.9297959e-02, -1.0186521e-01,\n",
       "        2.9962030e-03,  2.8844822e-02,  2.3044646e-02, -3.3936571e-02,\n",
       "       -1.8521622e-03, -1.1453145e-01, -2.9555710e-02, -1.7721914e-01,\n",
       "        4.6306476e-02,  4.9913101e-02,  7.2948396e-02, -6.4145476e-02,\n",
       "       -9.4667086e-03, -7.9196142e-03, -5.3544279e-02, -4.9756534e-02,\n",
       "       -4.0109254e-02,  3.1799015e-02,  8.2537457e-02,  1.1476127e-02,\n",
       "        6.1183736e-02, -5.0726883e-02, -5.8955323e-02,  1.1060757e-01,\n",
       "        2.0436512e-02, -8.0320641e-02, -1.6643550e-02, -1.2186232e-01,\n",
       "       -2.0094290e-02, -8.1346579e-02, -2.8892808e-02,  1.4435691e-02,\n",
       "        6.8305068e-02, -4.7051568e-02, -3.2057237e-02, -1.2923687e-02,\n",
       "        6.7312740e-02,  6.1196435e-02,  3.7950743e-02, -4.6479356e-02,\n",
       "       -3.0356323e-02, -3.3258021e-02, -3.4040686e-02,  1.9090708e-02,\n",
       "        4.6474967e-02, -1.5569564e-02, -7.8329787e-02,  4.3498304e-02,\n",
       "        3.5456814e-02,  2.7286200e-02, -1.0053015e-02, -3.9895345e-03,\n",
       "       -6.7623839e-02,  9.2887573e-02,  1.5484911e-02,  7.6243147e-02,\n",
       "       -1.2875225e-01,  1.2152685e-01, -3.4160722e-02,  2.3672607e-02,\n",
       "        7.5774796e-02,  1.4953638e-02,  9.0205729e-02,  2.0632619e-02,\n",
       "       -2.9952612e-03, -3.7062321e-02, -7.7568658e-02,  1.1192721e-02,\n",
       "       -7.1488887e-02, -1.2333748e-02, -1.0310625e-01,  1.2176641e-01,\n",
       "       -3.1516414e-02, -8.0866013e-03,  5.4985187e-03,  8.2723439e-02,\n",
       "        1.0856884e-01,  2.3201900e-02,  1.0237715e-01,  4.0538125e-02,\n",
       "        1.2631722e-02, -3.9304355e-03,  1.4292075e-01,  8.8030986e-02,\n",
       "        3.6008287e-02, -6.8491235e-02, -1.0090825e-02, -2.0347424e-02],\n",
       "      dtype=float32)"
      ]
     },
     "execution_count": 465,
     "metadata": {},
     "output_type": "execute_result"
    }
   ],
   "source": [
    "w2v_model.wv['king']"
   ]
  },
  {
   "cell_type": "code",
   "execution_count": 466,
   "id": "af97aa2a",
   "metadata": {},
   "outputs": [
    {
     "data": {
      "text/plain": [
       "[('www', 0.9961568713188171),\n",
       " ('ìï', 0.996148943901062),\n",
       " ('went', 0.9960287809371948),\n",
       " ('com', 0.9959315657615662),\n",
       " ('jus', 0.9959218502044678),\n",
       " ('per', 0.9959032535552979),\n",
       " ('had', 0.9958897829055786),\n",
       " ('uk', 0.9958668351173401),\n",
       " ('lor', 0.9958648085594177),\n",
       " ('going', 0.9958573579788208)]"
      ]
     },
     "execution_count": 466,
     "metadata": {},
     "output_type": "execute_result"
    }
   ],
   "source": [
    "w2v_model.wv.most_similar('king')"
   ]
  },
  {
   "cell_type": "code",
   "execution_count": 467,
   "id": "8b6ae4ba",
   "metadata": {},
   "outputs": [
    {
     "data": {
      "text/plain": [
       "['to', 'you', 'the', 'and', 'in', 'is', 'me', 'my', 'it', 'for']"
      ]
     },
     "execution_count": 467,
     "metadata": {},
     "output_type": "execute_result"
    }
   ],
   "source": [
    "w2v_model.wv.index_to_key[0:10]"
   ]
  },
  {
   "cell_type": "code",
   "execution_count": 556,
   "id": "b04b14f5",
   "metadata": {},
   "outputs": [],
   "source": [
    "import numpy as np\n",
    "w2v_vect = np.array([np.array([w2v_model.wv[i] for i in ls if i in w2v_model.wv.index_to_key]) for ls in X_test])\n",
    "#w2v_vect"
   ]
  },
  {
   "cell_type": "code",
   "execution_count": 557,
   "id": "694eca07",
   "metadata": {},
   "outputs": [],
   "source": [
    "#for i, v in enumerate(w2v_vect):\n",
    "#    print(len(X_test.iloc[i]), len(v))"
   ]
  },
  {
   "cell_type": "code",
   "execution_count": 470,
   "id": "cf5c662e",
   "metadata": {},
   "outputs": [],
   "source": [
    "w2v_vect_avg = []\n",
    "for vect in w2v_vect:\n",
    "    if len(vect) != 0:\n",
    "        w2v_vect_avg.append(vect.mean(axis = 0))\n",
    "    else:\n",
    "        w2v_vect_avg.append(np.zeros(100))\n"
   ]
  },
  {
   "cell_type": "code",
   "execution_count": 558,
   "id": "eb1cce57",
   "metadata": {},
   "outputs": [],
   "source": [
    "#for i, v in enumerate(w2v_vect_avg):\n",
    "#    print(len(X_test.iloc[i]), len(v))"
   ]
  },
  {
   "cell_type": "markdown",
   "id": "d9f81b7d",
   "metadata": {},
   "source": [
    "## Doc2Vec"
   ]
  },
  {
   "cell_type": "code",
   "execution_count": 472,
   "id": "5dafe133",
   "metadata": {},
   "outputs": [
    {
     "data": {
      "text/plain": [
       "TaggedDocument(words=['ah', 'poor', 'baby', 'hope', 'urfeeling', 'bettersn', 'luv', 'probthat', 'overdose', 'of', 'work', 'hey', 'go', 'careful', 'spk', 'sn', 'lots', 'of', 'lovejen', 'xxx'], tags=[0])"
      ]
     },
     "execution_count": 472,
     "metadata": {},
     "output_type": "execute_result"
    }
   ],
   "source": [
    "X_train, X_test, y_train, y_test = train_test_split(messages['text_clean_gensim'], messages['label'], test_size = 0.2)\n",
    "\n",
    "tagged_docs = [gensim.models.doc2vec.TaggedDocument(v, [i]) for i, v in enumerate(X_train)]\n",
    "\n",
    "tagged_docs[0]"
   ]
  },
  {
   "cell_type": "code",
   "execution_count": 473,
   "id": "b28b4b48",
   "metadata": {},
   "outputs": [
    {
     "data": {
      "text/plain": [
       "array([-0.00328922,  0.00834541, -0.00085594, -0.00413698,  0.00342533,\n",
       "       -0.02558143, -0.00290246,  0.03566356, -0.00936335, -0.00739871,\n",
       "       -0.00675392, -0.01909826, -0.0015561 ,  0.00769733, -0.00639739,\n",
       "       -0.0115028 ,  0.00447061, -0.01829534,  0.00031071, -0.03503658,\n",
       "       -0.00042556,  0.00309191,  0.0098708 , -0.006493  ,  0.00253213,\n",
       "       -0.00287848, -0.01248276, -0.00568882, -0.01084815, -0.0087539 ,\n",
       "        0.01156934,  0.0070498 ,  0.00933268, -0.0046143 , -0.00559106,\n",
       "        0.01360213,  0.00596248, -0.01388805, -0.00877572, -0.02050494,\n",
       "       -0.00479912, -0.01237847, -0.01371798, -0.00155838,  0.00605557,\n",
       "       -0.01021594, -0.01486014,  0.00024634,  0.010631  ,  0.01035734,\n",
       "        0.00104473, -0.00769249, -0.0029075 ,  0.00126665, -0.00049349,\n",
       "        0.00923697,  0.00820557, -0.00602587, -0.01843893,  0.01443826,\n",
       "        0.00995549, -0.00449755, -0.00029103,  0.00325415, -0.01242705,\n",
       "        0.00905406,  0.01151578,  0.00830174, -0.01457835,  0.01612398,\n",
       "       -0.00384262,  0.01193317,  0.0068469 , -0.00645719,  0.02243244,\n",
       "        0.0042981 , -0.00020536, -0.0132939 , -0.00410662, -0.00353377,\n",
       "       -0.00532008,  0.0046688 , -0.01612214,  0.01841526, -0.00281499,\n",
       "       -0.0036205 ,  0.00472579,  0.01198548,  0.01743451,  0.01357997,\n",
       "        0.01912352,  0.01428402,  0.00566435,  0.00671661,  0.02237697,\n",
       "        0.00587406,  0.00262987, -0.01101273, -0.00107341,  0.0005992 ],\n",
       "      dtype=float32)"
      ]
     },
     "execution_count": 473,
     "metadata": {},
     "output_type": "execute_result"
    }
   ],
   "source": [
    "d2v_model = gensim.models.Doc2Vec(tagged_docs, vector_size = 100, window = 5, min_count = 2)\n",
    "d2v_model.infer_vector(['i', 'am', 'learning', 'nlp'])"
   ]
  },
  {
   "cell_type": "code",
   "execution_count": 474,
   "id": "5fa3ef89",
   "metadata": {},
   "outputs": [
    {
     "data": {
      "text/plain": [
       "[array([-8.50158464e-03, -3.46121669e-04, -1.24675035e-02, -1.30913202e-02,\n",
       "        -2.59945844e-03, -2.77636386e-02, -1.30201783e-02,  5.89409051e-03,\n",
       "         1.30559262e-02, -6.29349472e-03, -8.78251158e-04, -5.54221624e-04,\n",
       "        -1.24175623e-02, -7.70104211e-03, -1.02232900e-02, -1.77489722e-03,\n",
       "        -7.11622601e-03, -1.22282030e-02,  2.40260153e-04, -2.24151220e-02,\n",
       "        -1.11393984e-02, -1.60882005e-03, -6.50516292e-03, -1.08518442e-02,\n",
       "        -5.78283561e-06, -1.58080191e-04,  7.58420734e-04,  3.35994503e-03,\n",
       "        -1.61482880e-04, -1.03085479e-02, -9.49084666e-03,  1.44394320e-02,\n",
       "         4.42564022e-04,  1.28565934e-02, -6.04132796e-03,  5.43063926e-03,\n",
       "         1.25735975e-03, -2.40566693e-02, -6.31631166e-03, -2.47991458e-03,\n",
       "        -5.89195546e-03, -3.18601029e-03, -1.55842677e-02, -1.46410556e-03,\n",
       "         8.12954828e-03, -1.21371355e-02, -6.83227507e-03, -1.84589333e-03,\n",
       "        -3.18211550e-03, -2.70293583e-03,  1.66670326e-03,  1.11742492e-03,\n",
       "         1.59443133e-02,  1.06261275e-03, -8.76654964e-03, -3.43592837e-04,\n",
       "         9.29979724e-04, -2.84944265e-03, -1.64357182e-02,  1.62848905e-02,\n",
       "         1.22636538e-02, -1.04134046e-02,  2.53855204e-03, -3.24075390e-03,\n",
       "        -1.33133819e-02,  1.69277862e-02, -3.40377400e-03,  1.30746523e-02,\n",
       "        -1.11133764e-02, -3.90527374e-03, -8.17609113e-03,  4.08374611e-03,\n",
       "        -7.84928538e-03,  3.07000615e-03,  7.16418307e-03, -1.16393911e-02,\n",
       "         3.14210169e-03, -1.50891542e-02,  4.63488605e-03, -8.42344947e-03,\n",
       "        -3.07372026e-03,  7.68620195e-03, -1.41912268e-03,  1.46940956e-02,\n",
       "         1.48018785e-02, -6.79045497e-03, -4.95912787e-03,  2.99522677e-03,\n",
       "         1.02028344e-02,  9.89391841e-03,  6.84720930e-03,  1.16213842e-03,\n",
       "         1.70739461e-02,  8.31611175e-03,  7.37129943e-03,  3.47766490e-03,\n",
       "        -6.84001669e-03, -4.07898985e-03,  1.18986899e-02, -1.09557873e-02],\n",
       "       dtype=float32)]"
      ]
     },
     "execution_count": 474,
     "metadata": {},
     "output_type": "execute_result"
    }
   ],
   "source": [
    "vectors = [[d2v_model.infer_vector(words)] for words in X_test]\n",
    "vectors[0]"
   ]
  },
  {
   "cell_type": "markdown",
   "id": "91d1670e",
   "metadata": {},
   "source": [
    "## Recurrent Neural Network"
   ]
  },
  {
   "cell_type": "code",
   "execution_count": 475,
   "id": "2eb5dbdd",
   "metadata": {},
   "outputs": [
    {
     "data": {
      "text/plain": [
       "array([0, 0, 1, ..., 0, 0, 0])"
      ]
     },
     "execution_count": 475,
     "metadata": {},
     "output_type": "execute_result"
    }
   ],
   "source": [
    "pd.set_option('display.max_colwidth', 150)\n",
    "\n",
    "messagesRNN = pd.read_csv('python_data/spam.csv', encoding = 'latin-1')\n",
    "\n",
    "messagesRNN = messagesRNN.drop(columns = ['Unnamed: 2', 'Unnamed: 3', 'Unnamed: 4'], axis = 1) #columns = ['Unnamed: 2', 'Unnamed: 2', 'Unnamed: 2'], axis = 1)\n",
    "messagesRNN.columns = ['label', 'text']\n",
    "#print(messagesRNN.head())\n",
    "\n",
    "labels = np.where(messagesRNN['label'] == 'spam', 1, 0)\n",
    "labels"
   ]
  },
  {
   "cell_type": "code",
   "execution_count": 476,
   "id": "7a940f57",
   "metadata": {},
   "outputs": [],
   "source": [
    "XRNN_train, XRNN_test, yRNN_train, yRNN_test = train_test_split(messagesRNN['text'], labels, test_size = 0.2)"
   ]
  },
  {
   "cell_type": "code",
   "execution_count": 538,
   "id": "44ee5498",
   "metadata": {},
   "outputs": [],
   "source": [
    "from keras.preprocessing.text import Tokenizer\n",
    "from keras_preprocessing.sequence import pad_sequences\n",
    "\n",
    "def recall_m(y_true, y_red):\n",
    "    true_positives = K.sum(K.round(K.clip(y_true * y_pred, 0, 1)))\n",
    "    possible_positives = K.sum(K.round(K.clip(y_true, 0, 1)))\n",
    "    recall = true_positives/(possible_positives + K.epsilon())\n",
    "    return recall\n",
    "\n",
    "def precision_m(y_true, y_pred):\n",
    "    true_positives = K.sum(K.round(K.clip(y_true * y_pred, 0, 1)))\n",
    "    predicted_positives = K.sum(K.round(K.clip(y_pred, 0, 1)))\n",
    "    precision = true_positives / (predicted_positives + K.epsilon())\n",
    "    return precision"
   ]
  },
  {
   "cell_type": "code",
   "execution_count": 478,
   "id": "19655725",
   "metadata": {},
   "outputs": [],
   "source": [
    "tokenizer = Tokenizer()\n",
    "tokenizer.fit_on_texts(XRNN_train)"
   ]
  },
  {
   "cell_type": "code",
   "execution_count": 479,
   "id": "64d1827e",
   "metadata": {},
   "outputs": [
    {
     "data": {
      "text/plain": [
       "[29, 2571, 1, 58, 16, 47, 13, 141]"
      ]
     },
     "execution_count": 479,
     "metadata": {},
     "output_type": "execute_result"
    }
   ],
   "source": [
    "X_train_seq = tokenizer.texts_to_sequences(XRNN_train)\n",
    "X_test_seq = tokenizer.texts_to_sequences(XRNN_test)\n",
    "\n",
    "X_train_seq[0]"
   ]
  },
  {
   "cell_type": "code",
   "execution_count": 480,
   "id": "8d1ea668",
   "metadata": {},
   "outputs": [
    {
     "data": {
      "text/plain": [
       "array([   0,    0,    0,    0,    0,    0,    0,    0,    0,    0,    0,\n",
       "          0,    0,    0,    0,    0,    0,    0,    0,    0,    0,    0,\n",
       "          0,    0,    0,    0,    0,    0,    0,    0,    0,    0,    0,\n",
       "          0,    0,    0,    0,    0,    0,    0,    0,    0,   29, 2571,\n",
       "          1,   58,   16,   47,   13,  141])"
      ]
     },
     "execution_count": 480,
     "metadata": {},
     "output_type": "execute_result"
    }
   ],
   "source": [
    "X_train_seq_padded = pad_sequences(X_train_seq, 50)\n",
    "X_test_seq_padded = pad_sequences(X_test_seq, 50)\n",
    "\n",
    "X_train_seq_padded[0]"
   ]
  },
  {
   "cell_type": "code",
   "execution_count": 481,
   "id": "c7f1ac7e",
   "metadata": {},
   "outputs": [],
   "source": [
    "import keras.backend as K\n",
    "from keras.layers import Dense, Embedding, LSTM\n",
    "from keras.models import Sequential"
   ]
  },
  {
   "cell_type": "code",
   "execution_count": 482,
   "id": "1cdad58e",
   "metadata": {},
   "outputs": [
    {
     "name": "stdout",
     "output_type": "stream",
     "text": [
      "Model: \"sequential_4\"\n",
      "_________________________________________________________________\n",
      " Layer (type)                Output Shape              Param #   \n",
      "=================================================================\n",
      " embedding_6 (Embedding)     (None, None, 32)          254240    \n",
      "                                                                 \n",
      " lstm_6 (LSTM)               (None, 32)                8320      \n",
      "                                                                 \n",
      " dense_12 (Dense)            (None, 32)                1056      \n",
      "                                                                 \n",
      " dense_13 (Dense)            (None, 1)                 33        \n",
      "                                                                 \n",
      "=================================================================\n",
      "Total params: 263,649\n",
      "Trainable params: 263,649\n",
      "Non-trainable params: 0\n",
      "_________________________________________________________________\n"
     ]
    }
   ],
   "source": [
    "model = Sequential()\n",
    "\n",
    "model.add(Embedding(len(tokenizer.index_word) + 1, 32))\n",
    "model.add(LSTM(32, dropout = 0, recurrent_dropout = 0))\n",
    "model.add(Dense(32, activation = 'relu'))\n",
    "model.add(Dense(1, activation = 'sigmoid'))\n",
    "model.summary()"
   ]
  },
  {
   "cell_type": "code",
   "execution_count": 539,
   "id": "f6bbdce2",
   "metadata": {},
   "outputs": [],
   "source": [
    "model.compile(optimizer = 'adam', loss = 'binary_crossentropy', metrics = ['accuracy', precision_m, recall_m])"
   ]
  },
  {
   "cell_type": "code",
   "execution_count": 540,
   "id": "ca99ddcd",
   "metadata": {},
   "outputs": [
    {
     "name": "stdout",
     "output_type": "stream",
     "text": [
      "Epoch 1/10\n",
      "140/140 [==============================] - 4s 15ms/step - loss: 0.6795 - accuracy: 0.7961 - precision_m: 0.0986 - recall_m: 60.0000 - val_loss: 0.4520 - val_accuracy: 0.8484 - val_precision_m: 0.0286 - val_recall_m: 58.2857\n",
      "Epoch 2/10\n",
      "140/140 [==============================] - 2s 11ms/step - loss: 0.3769 - accuracy: 0.8672 - precision_m: 0.0071 - recall_m: 59.5714 - val_loss: 0.4353 - val_accuracy: 0.8547 - val_precision_m: 0.0286 - val_recall_m: 58.2857\n",
      "Epoch 3/10\n",
      "140/140 [==============================] - 2s 12ms/step - loss: 0.3320 - accuracy: 0.8714 - precision_m: 0.2274 - recall_m: 59.5714 - val_loss: 0.4728 - val_accuracy: 0.8422 - val_precision_m: 0.0476 - val_recall_m: 58.2857\n",
      "Epoch 4/10\n",
      "140/140 [==============================] - 2s 11ms/step - loss: 0.2680 - accuracy: 0.8921 - precision_m: 0.5918 - recall_m: 59.5714 - val_loss: 0.5565 - val_accuracy: 0.7749 - val_precision_m: 0.1140 - val_recall_m: 58.2857\n",
      "Epoch 5/10\n",
      "140/140 [==============================] - 2s 12ms/step - loss: 0.2039 - accuracy: 0.9235 - precision_m: 0.7794 - recall_m: 58.7143 - val_loss: 0.6236 - val_accuracy: 0.7767 - val_precision_m: 0.1672 - val_recall_m: 58.2857\n",
      "Epoch 6/10\n",
      "140/140 [==============================] - 2s 12ms/step - loss: 0.1573 - accuracy: 0.9423 - precision_m: 0.8194 - recall_m: 59.1429 - val_loss: 0.7048 - val_accuracy: 0.7516 - val_precision_m: 0.1611 - val_recall_m: 58.2857\n",
      "Epoch 7/10\n",
      "140/140 [==============================] - 2s 13ms/step - loss: 0.1278 - accuracy: 0.9551 - precision_m: 0.8879 - recall_m: 58.7143 - val_loss: 0.6926 - val_accuracy: 0.7937 - val_precision_m: 0.1377 - val_recall_m: 58.2857\n",
      "Epoch 8/10\n",
      "140/140 [==============================] - 2s 12ms/step - loss: 0.1084 - accuracy: 0.9628 - precision_m: 0.8875 - recall_m: 59.5714 - val_loss: 0.8121 - val_accuracy: 0.7426 - val_precision_m: 0.1670 - val_recall_m: 58.2857\n",
      "Epoch 9/10\n",
      "140/140 [==============================] - 2s 13ms/step - loss: 0.0893 - accuracy: 0.9695 - precision_m: 0.9085 - recall_m: 58.2857 - val_loss: 0.8455 - val_accuracy: 0.7677 - val_precision_m: 0.1436 - val_recall_m: 58.2857\n",
      "Epoch 10/10\n",
      "140/140 [==============================] - 2s 13ms/step - loss: 0.0837 - accuracy: 0.9708 - precision_m: 0.9326 - recall_m: 60.0000 - val_loss: 0.8499 - val_accuracy: 0.7417 - val_precision_m: 0.1450 - val_recall_m: 58.2857\n"
     ]
    }
   ],
   "source": [
    "history = model.fit(X_train_seq_padded, yRNN_train, batch_size = 32, epochs = 10, \n",
    "                    validation_data = (X_test_seq_padded, yRNN_test))"
   ]
  },
  {
   "cell_type": "code",
   "execution_count": 541,
   "id": "83796143",
   "metadata": {},
   "outputs": [
    {
     "data": {
      "image/png": "[encoded data removed]",
      "text/plain": [
       "<Figure size 432x288 with 1 Axes>"
      ]
     },
     "metadata": {
      "needs_background": "light"
     },
     "output_type": "display_data"
    },
    {
     "data": {
      "image/png": "[encoded data removed]",
      "text/plain": [
       "<Figure size 432x288 with 1 Axes>"
      ]
     },
     "metadata": {
      "needs_background": "light"
     },
     "output_type": "display_data"
    },
    {
     "data": {
      "image/png": "[encoded data removed]",
      "text/plain": [
       "<Figure size 432x288 with 1 Axes>"
      ]
     },
     "metadata": {
      "needs_background": "light"
     },
     "output_type": "display_data"
    }
   ],
   "source": [
    "import matplotlib.pyplot as plt\n",
    "\n",
    "for i in ['accuracy', 'precision_m', 'recall_m']:\n",
    "    acc = history.history[i]\n",
    "    val_acc = history.history['val_{}'.format(i)]\n",
    "    epochs = range(1, len(acc) +  1)\n",
    "    \n",
    "    plt.figure()\n",
    "    plt.plot(epochs, acc, label = 'Traning Accuracy')\n",
    "    plt.plot(epochs, val_acc, label = 'Validation Accuracy')\n",
    "    plt.title('Results for {}'.format(i))\n",
    "    plt.legend()\n",
    "    plt.show()"
   ]
  },
  {
   "cell_type": "markdown",
   "id": "dff293df",
   "metadata": {},
   "source": [
    "## Compare NLP Techniques: Prep the Data for Modeling"
   ]
  },
  {
   "cell_type": "code",
   "execution_count": 486,
   "id": "96bf909c",
   "metadata": {},
   "outputs": [
    {
     "data": {
      "text/html": [
       "<div>\n",
       "<style scoped>\n",
       "    .dataframe tbody tr th:only-of-type {\n",
       "        vertical-align: middle;\n",
       "    }\n",
       "\n",
       "    .dataframe tbody tr th {\n",
       "        vertical-align: top;\n",
       "    }\n",
       "\n",
       "    .dataframe thead th {\n",
       "        text-align: right;\n",
       "    }\n",
       "</style>\n",
       "<table border=\"1\" class=\"dataframe\">\n",
       "  <thead>\n",
       "    <tr style=\"text-align: right;\">\n",
       "      <th></th>\n",
       "      <th>label</th>\n",
       "      <th>text</th>\n",
       "    </tr>\n",
       "  </thead>\n",
       "  <tbody>\n",
       "    <tr>\n",
       "      <th>0</th>\n",
       "      <td>0</td>\n",
       "      <td>Go until jurong point, crazy.. Available only in bugis n great world la e buffet... Cine there got amore wat...</td>\n",
       "    </tr>\n",
       "    <tr>\n",
       "      <th>1</th>\n",
       "      <td>0</td>\n",
       "      <td>Ok lar... Joking wif u oni...</td>\n",
       "    </tr>\n",
       "    <tr>\n",
       "      <th>2</th>\n",
       "      <td>1</td>\n",
       "      <td>Free entry in 2 a wkly comp to win FA Cup final tkts 21st May 2005. Text FA to 87121 to receive entry question(std txt rate)T&amp;C's apply 0845281007...</td>\n",
       "    </tr>\n",
       "    <tr>\n",
       "      <th>3</th>\n",
       "      <td>0</td>\n",
       "      <td>U dun say so early hor... U c already then say...</td>\n",
       "    </tr>\n",
       "    <tr>\n",
       "      <th>4</th>\n",
       "      <td>0</td>\n",
       "      <td>Nah I don't think he goes to usf, he lives around here though</td>\n",
       "    </tr>\n",
       "  </tbody>\n",
       "</table>\n",
       "</div>"
      ],
      "text/plain": [
       "   label  \\\n",
       "0      0   \n",
       "1      0   \n",
       "2      1   \n",
       "3      0   \n",
       "4      0   \n",
       "\n",
       "                                                                                                                                                    text  \n",
       "0                                        Go until jurong point, crazy.. Available only in bugis n great world la e buffet... Cine there got amore wat...  \n",
       "1                                                                                                                          Ok lar... Joking wif u oni...  \n",
       "2  Free entry in 2 a wkly comp to win FA Cup final tkts 21st May 2005. Text FA to 87121 to receive entry question(std txt rate)T&C's apply 0845281007...  \n",
       "3                                                                                                      U dun say so early hor... U c already then say...  \n",
       "4                                                                                          Nah I don't think he goes to usf, he lives around here though  "
      ]
     },
     "execution_count": 486,
     "metadata": {},
     "output_type": "execute_result"
    }
   ],
   "source": [
    "messages = pd.read_csv('python_data/spam.csv', encoding = 'latin-1')\n",
    "messages = messages.drop(columns = ['Unnamed: 2', 'Unnamed: 3', 'Unnamed: 4'], axis = 1) #columns = ['Unnamed: 2', 'Unnamed: 2', 'Unnamed: 2'], axis = 1)\n",
    "messages.columns = ['label', 'text']\n",
    "messages['label'] = np.where(messages['label'] == 'spam', 1, 0)\n",
    "messages.head()"
   ]
  },
  {
   "cell_type": "code",
   "execution_count": 487,
   "id": "ebe3861e",
   "metadata": {},
   "outputs": [
    {
     "data": {
      "text/html": [
       "<div>\n",
       "<style scoped>\n",
       "    .dataframe tbody tr th:only-of-type {\n",
       "        vertical-align: middle;\n",
       "    }\n",
       "\n",
       "    .dataframe tbody tr th {\n",
       "        vertical-align: top;\n",
       "    }\n",
       "\n",
       "    .dataframe thead th {\n",
       "        text-align: right;\n",
       "    }\n",
       "</style>\n",
       "<table border=\"1\" class=\"dataframe\">\n",
       "  <thead>\n",
       "    <tr style=\"text-align: right;\">\n",
       "      <th></th>\n",
       "      <th>label</th>\n",
       "      <th>text</th>\n",
       "      <th>clean_text</th>\n",
       "    </tr>\n",
       "  </thead>\n",
       "  <tbody>\n",
       "    <tr>\n",
       "      <th>0</th>\n",
       "      <td>0</td>\n",
       "      <td>Go until jurong point, crazy.. Available only in bugis n great world la e buffet... Cine there got amore wat...</td>\n",
       "      <td>[go, jurong, point, crazy, available, bugis, n, great, world, la, e, buffet, cine, got, amore, wat]</td>\n",
       "    </tr>\n",
       "    <tr>\n",
       "      <th>1</th>\n",
       "      <td>0</td>\n",
       "      <td>Ok lar... Joking wif u oni...</td>\n",
       "      <td>[ok, lar, joking, wif, u, oni]</td>\n",
       "    </tr>\n",
       "    <tr>\n",
       "      <th>2</th>\n",
       "      <td>1</td>\n",
       "      <td>Free entry in 2 a wkly comp to win FA Cup final tkts 21st May 2005. Text FA to 87121 to receive entry question(std txt rate)T&amp;C's apply 0845281007...</td>\n",
       "      <td>[free, entry, 2, wkly, comp, win, fa, cup, final, tkts, 21st, may, 2005, text, fa, 87121, receive, entry, questionstd, txt, ratetcs, apply, 084528...</td>\n",
       "    </tr>\n",
       "    <tr>\n",
       "      <th>3</th>\n",
       "      <td>0</td>\n",
       "      <td>U dun say so early hor... U c already then say...</td>\n",
       "      <td>[u, dun, say, early, hor, u, c, already, say]</td>\n",
       "    </tr>\n",
       "    <tr>\n",
       "      <th>4</th>\n",
       "      <td>0</td>\n",
       "      <td>Nah I don't think he goes to usf, he lives around here though</td>\n",
       "      <td>[nah, dont, think, goes, usf, lives, around, though]</td>\n",
       "    </tr>\n",
       "  </tbody>\n",
       "</table>\n",
       "</div>"
      ],
      "text/plain": [
       "   label  \\\n",
       "0      0   \n",
       "1      0   \n",
       "2      1   \n",
       "3      0   \n",
       "4      0   \n",
       "\n",
       "                                                                                                                                                    text  \\\n",
       "0                                        Go until jurong point, crazy.. Available only in bugis n great world la e buffet... Cine there got amore wat...   \n",
       "1                                                                                                                          Ok lar... Joking wif u oni...   \n",
       "2  Free entry in 2 a wkly comp to win FA Cup final tkts 21st May 2005. Text FA to 87121 to receive entry question(std txt rate)T&C's apply 0845281007...   \n",
       "3                                                                                                      U dun say so early hor... U c already then say...   \n",
       "4                                                                                          Nah I don't think he goes to usf, he lives around here though   \n",
       "\n",
       "                                                                                                                                              clean_text  \n",
       "0                                                    [go, jurong, point, crazy, available, bugis, n, great, world, la, e, buffet, cine, got, amore, wat]  \n",
       "1                                                                                                                         [ok, lar, joking, wif, u, oni]  \n",
       "2  [free, entry, 2, wkly, comp, win, fa, cup, final, tkts, 21st, may, 2005, text, fa, 87121, receive, entry, questionstd, txt, ratetcs, apply, 084528...  \n",
       "3                                                                                                          [u, dun, say, early, hor, u, c, already, say]  \n",
       "4                                                                                                   [nah, dont, think, goes, usf, lives, around, though]  "
      ]
     },
     "execution_count": 487,
     "metadata": {},
     "output_type": "execute_result"
    }
   ],
   "source": [
    "stopwords = nltk.corpus.stopwords.words('english')\n",
    "\n",
    "def clean_text(text):\n",
    "    text = ''.join([char.lower() for char in text if char not in string.punctuation])\n",
    "    tokens = re.split('\\W+', text)\n",
    "    text_nostop = [word for word in tokens if word not in stopwords]\n",
    "    return text_nostop\n",
    "\n",
    "messages['clean_text'] = messages['text'].apply(lambda x : clean_text(x))\n",
    "\n",
    "messages.head()"
   ]
  },
  {
   "cell_type": "code",
   "execution_count": 488,
   "id": "ba09ec3c",
   "metadata": {},
   "outputs": [
    {
     "data": {
      "text/plain": [
       "2168                                                                                                 [thx, well, months]\n",
       "2500                                                                                        [remember, ask, alex, pizza]\n",
       "2532                                                                                                           [yup, ok]\n",
       "886                                                                                   [like, talk, pa, able, dont, know]\n",
       "3158                                                                                                 [challenge, know, ]\n",
       "4062                                                                                                   [ages, hows, abj]\n",
       "2458                                                                                          [cool, ill, text, im, way]\n",
       "2998                                                                                   [oh, phone, phoned, disconnected]\n",
       "1144    [really, tot, ur, paper, ended, long, ago, wat, u, copied, jus, got, use, u, happy, lar, still, haf, 2, study, ]\n",
       "1844                                                                                 [da, good, good, playerwhy, unsold]\n",
       "Name: clean_text, dtype: object"
      ]
     },
     "execution_count": 488,
     "metadata": {},
     "output_type": "execute_result"
    }
   ],
   "source": [
    "X_train, X_test, y_train, y_test = train_test_split(messages['clean_text'], messages['label'], test_size = 0.2)\n",
    "\n",
    "X_train[0:10]"
   ]
  },
  {
   "cell_type": "code",
   "execution_count": 489,
   "id": "12326a10",
   "metadata": {},
   "outputs": [
    {
     "data": {
      "text/plain": [
       "2577    0\n",
       "2983    0\n",
       "1102    0\n",
       "854     0\n",
       "1797    0\n",
       "3697    0\n",
       "2878    0\n",
       "5088    0\n",
       "4562    0\n",
       "2973    0\n",
       "Name: label, dtype: int32"
      ]
     },
     "execution_count": 489,
     "metadata": {},
     "output_type": "execute_result"
    }
   ],
   "source": [
    "y_train[0:10]\n",
    "y_test[0:10]"
   ]
  },
  {
   "cell_type": "code",
   "execution_count": 490,
   "id": "68600fd7",
   "metadata": {},
   "outputs": [],
   "source": [
    "X_train.to_csv('python_data/X_train.csv', index = False, header = True)\n",
    "X_test.to_csv('python_data/X_test.csv', index = False, header = True)\n",
    "y_train.to_csv('python_data/y_train.csv', index = False, header = True)\n",
    "y_test.to_csv('python_data/y_test.csv', index = False, header = True)"
   ]
  },
  {
   "cell_type": "markdown",
   "id": "19b84087",
   "metadata": {},
   "source": [
    "#### 1. TF-IDF Vectors"
   ]
  },
  {
   "cell_type": "code",
   "execution_count": 491,
   "id": "dd57f511",
   "metadata": {},
   "outputs": [],
   "source": [
    "import pandas as pd\n",
    "from sklearn.feature_extraction.text import TfidfVectorizer"
   ]
  },
  {
   "cell_type": "code",
   "execution_count": 492,
   "id": "390065ef",
   "metadata": {},
   "outputs": [
    {
     "data": {
      "text/html": [
       "<div>\n",
       "<style scoped>\n",
       "    .dataframe tbody tr th:only-of-type {\n",
       "        vertical-align: middle;\n",
       "    }\n",
       "\n",
       "    .dataframe tbody tr th {\n",
       "        vertical-align: top;\n",
       "    }\n",
       "\n",
       "    .dataframe thead th {\n",
       "        text-align: right;\n",
       "    }\n",
       "</style>\n",
       "<table border=\"1\" class=\"dataframe\">\n",
       "  <thead>\n",
       "    <tr style=\"text-align: right;\">\n",
       "      <th></th>\n",
       "      <th>label</th>\n",
       "    </tr>\n",
       "  </thead>\n",
       "  <tbody>\n",
       "    <tr>\n",
       "      <th>0</th>\n",
       "      <td>0</td>\n",
       "    </tr>\n",
       "    <tr>\n",
       "      <th>1</th>\n",
       "      <td>0</td>\n",
       "    </tr>\n",
       "    <tr>\n",
       "      <th>2</th>\n",
       "      <td>0</td>\n",
       "    </tr>\n",
       "    <tr>\n",
       "      <th>3</th>\n",
       "      <td>0</td>\n",
       "    </tr>\n",
       "    <tr>\n",
       "      <th>4</th>\n",
       "      <td>0</td>\n",
       "    </tr>\n",
       "  </tbody>\n",
       "</table>\n",
       "</div>"
      ],
      "text/plain": [
       "   label\n",
       "0      0\n",
       "1      0\n",
       "2      0\n",
       "3      0\n",
       "4      0"
      ]
     },
     "execution_count": 492,
     "metadata": {},
     "output_type": "execute_result"
    }
   ],
   "source": [
    "X_train = pd.read_csv('python_data/X_train.csv')\n",
    "X_test = pd.read_csv('python_data/X_test.csv')\n",
    "y_train = pd.read_csv('python_data/y_train.csv')\n",
    "y_test = pd.read_csv('python_data/y_test.csv')\n",
    "\n",
    "X_train.head()\n",
    "y_test.head()"
   ]
  },
  {
   "cell_type": "code",
   "execution_count": 493,
   "id": "79a0a93b",
   "metadata": {},
   "outputs": [],
   "source": [
    "tfidf_vect = TfidfVectorizer()\n",
    "tfidf_vect.fit(X_train['clean_text'])\n",
    "\n",
    "X_train_vect = tfidf_vect.transform(X_train['clean_text'])\n",
    "X_test_vect = tfidf_vect.transform(X_test['clean_text'])"
   ]
  },
  {
   "cell_type": "code",
   "execution_count": 559,
   "id": "a0a66442",
   "metadata": {},
   "outputs": [],
   "source": [
    "#tfidf_vect.vocabulary_"
   ]
  },
  {
   "cell_type": "code",
   "execution_count": 495,
   "id": "3e014838",
   "metadata": {},
   "outputs": [
    {
     "data": {
      "text/plain": [
       "<1x8219 sparse matrix of type '<class 'numpy.float64'>'\n",
       "\twith 3 stored elements in Compressed Sparse Row format>"
      ]
     },
     "execution_count": 495,
     "metadata": {},
     "output_type": "execute_result"
    }
   ],
   "source": [
    "X_train_vect[0]"
   ]
  },
  {
   "cell_type": "code",
   "execution_count": 496,
   "id": "08f15149",
   "metadata": {},
   "outputs": [
    {
     "data": {
      "text/plain": [
       "array([[0., 0., 0., ..., 0., 0., 0.]])"
      ]
     },
     "execution_count": 496,
     "metadata": {},
     "output_type": "execute_result"
    }
   ],
   "source": [
    "X_train_vect[0].toarray()"
   ]
  },
  {
   "cell_type": "code",
   "execution_count": 497,
   "id": "d912975b",
   "metadata": {},
   "outputs": [],
   "source": [
    "from sklearn.ensemble import RandomForestClassifier\n",
    "\n",
    "rf = RandomForestClassifier()\n",
    "rf_model = rf.fit(X_train_vect, y_train.values.ravel())"
   ]
  },
  {
   "cell_type": "code",
   "execution_count": 498,
   "id": "ab3c569e",
   "metadata": {},
   "outputs": [],
   "source": [
    "y_pred = rf_model.predict(X_test_vect)"
   ]
  },
  {
   "cell_type": "code",
   "execution_count": 499,
   "id": "f9780f50",
   "metadata": {},
   "outputs": [
    {
     "name": "stdout",
     "output_type": "stream",
     "text": [
      "Precision: 1.0 / Recall: 0.725  / Accuracy: 0.963\n"
     ]
    }
   ],
   "source": [
    "from sklearn.metrics import precision_score, recall_score\n",
    "\n",
    "precision = precision_score(y_test, y_pred)\n",
    "recall = recall_score(y_test, y_pred)\n",
    "\n",
    "print('Precision: {} / Recall: {}  / Accuracy: {}'.format(round(precision, 3), round(recall, 3), \n",
    "                                                          round((y_pred == y_test['label']).sum()/len(y_pred), 3)))"
   ]
  },
  {
   "cell_type": "markdown",
   "id": "dc0c5292",
   "metadata": {},
   "source": [
    "#### 2. Word2Vec"
   ]
  },
  {
   "cell_type": "code",
   "execution_count": 500,
   "id": "dea57fc9",
   "metadata": {},
   "outputs": [],
   "source": [
    "import gensim\n",
    "import numpy as np\n",
    "import pandas as pd\n",
    "\n",
    "X_train = pd.read_csv('python_data/X_train.csv')\n",
    "X_test = pd.read_csv('python_data/X_test.csv')\n",
    "y_train = pd.read_csv('python_data/y_train.csv')\n",
    "y_test = pd.read_csv('python_data/y_test.csv')"
   ]
  },
  {
   "cell_type": "code",
   "execution_count": 501,
   "id": "5b7aaf34",
   "metadata": {},
   "outputs": [],
   "source": [
    "w2v_model = gensim.models.Word2Vec(X_train, vector_size = 100, window = 5, min_count = 2)"
   ]
  },
  {
   "cell_type": "code",
   "execution_count": 502,
   "id": "f3f9c5ab",
   "metadata": {},
   "outputs": [
    {
     "name": "stderr",
     "output_type": "stream",
     "text": [
      "C:\\Users\\yliu\\AppData\\Local\\Temp\\ipykernel_13688\\2767401476.py:3: VisibleDeprecationWarning: Creating an ndarray from ragged nested sequences (which is a list-or-tuple of lists-or-tuples-or ndarrays with different lengths or shapes) is deprecated. If you meant to do this, you must specify 'dtype=object' when creating the ndarray.\n",
      "  X_train_vect = np.array([np.array([w2v_model.wv[i] for i in ls if i in words]) for ls in X_train['clean_text']])\n",
      "C:\\Users\\yliu\\AppData\\Local\\Temp\\ipykernel_13688\\2767401476.py:5: VisibleDeprecationWarning: Creating an ndarray from ragged nested sequences (which is a list-or-tuple of lists-or-tuples-or ndarrays with different lengths or shapes) is deprecated. If you meant to do this, you must specify 'dtype=object' when creating the ndarray.\n",
      "  X_test_vect = np.array([np.array([w2v_model.wv[i] for i in ls if i in words]) for ls in X_test['clean_text']])\n"
     ]
    }
   ],
   "source": [
    "words = set(w2v_model.wv.index_to_key)\n",
    "\n",
    "X_train_vect = np.array([np.array([w2v_model.wv[i] for i in ls if i in words]) for ls in X_train['clean_text']])\n",
    "\n",
    "X_test_vect = np.array([np.array([w2v_model.wv[i] for i in ls if i in words]) for ls in X_test['clean_text']])"
   ]
  },
  {
   "cell_type": "code",
   "execution_count": 503,
   "id": "11349116",
   "metadata": {},
   "outputs": [
    {
     "data": {
      "text/plain": [
       "dtype('int64')"
      ]
     },
     "execution_count": 503,
     "metadata": {},
     "output_type": "execute_result"
    }
   ],
   "source": [
    "y_test['label'].dtype"
   ]
  },
  {
   "cell_type": "code",
   "execution_count": 504,
   "id": "f6e23379",
   "metadata": {},
   "outputs": [],
   "source": [
    "X_train_vect_avg = []\n",
    "\n",
    "for v in X_train_vect:\n",
    "    if v.size:\n",
    "        X_train_vect_avg.append(v.mean(axis = 0))\n",
    "    else:\n",
    "        X_train_vect_avg.append(np.zeros(100, dtype = float))\n",
    "        \n",
    "        \n",
    "X_test_vect_avg = []\n",
    "\n",
    "for v in X_test_vect:\n",
    "    if v.size:\n",
    "        X_test_vect_avg.append(v.mean(axis = 0))\n",
    "    else:\n",
    "        X_test_vect_avg.append(np.zeros(100, dtype = float))"
   ]
  },
  {
   "cell_type": "code",
   "execution_count": 560,
   "id": "16f11de0",
   "metadata": {},
   "outputs": [],
   "source": [
    "#X_test_vect[0]"
   ]
  },
  {
   "cell_type": "code",
   "execution_count": 561,
   "id": "be110af6",
   "metadata": {},
   "outputs": [],
   "source": [
    "#X_test_vect_avg[0]"
   ]
  },
  {
   "cell_type": "code",
   "execution_count": 507,
   "id": "5beee2cd",
   "metadata": {},
   "outputs": [],
   "source": [
    "from sklearn.ensemble import RandomForestClassifier\n",
    "\n",
    "rf = RandomForestClassifier()\n",
    "rf_model = rf.fit(X_train_vect_avg, y_train.values.ravel())\n",
    "\n",
    "y_pred = rf_model.predict(X_test_vect_avg)"
   ]
  },
  {
   "cell_type": "code",
   "execution_count": 508,
   "id": "4437adf2",
   "metadata": {},
   "outputs": [
    {
     "name": "stdout",
     "output_type": "stream",
     "text": [
      "Precision: 0.413 / Recall: 0.174  / Accuracy: 0.857\n"
     ]
    }
   ],
   "source": [
    "from sklearn.metrics import precision_score, recall_score\n",
    "\n",
    "precision = precision_score(y_test, y_pred)\n",
    "recall = recall_score(y_test, y_pred)\n",
    "\n",
    "print('Precision: {} / Recall: {}  / Accuracy: {}'.format(round(precision, 3), round(recall, 3), \n",
    "                                                          round((y_pred == y_test['label']).sum()/len(y_pred), 3)))"
   ]
  },
  {
   "cell_type": "markdown",
   "id": "8aaeefe1",
   "metadata": {},
   "source": [
    "#### 3. Doc2Vec"
   ]
  },
  {
   "cell_type": "code",
   "execution_count": 509,
   "id": "a2fbf259",
   "metadata": {},
   "outputs": [],
   "source": [
    "import gensim\n",
    "import numpy as np\n",
    "import pandas as pd\n",
    "\n",
    "X_train = pd.read_csv('python_data/X_train.csv')\n",
    "X_test = pd.read_csv('python_data/X_test.csv')\n",
    "y_train = pd.read_csv('python_data/y_train.csv')\n",
    "y_test = pd.read_csv('python_data/y_test.csv')"
   ]
  },
  {
   "cell_type": "code",
   "execution_count": 510,
   "id": "9f4e95cf",
   "metadata": {},
   "outputs": [
    {
     "data": {
      "text/plain": [
       "[TaggedDocument(words=\"['thx', 'well', 'months']\", tags=[0]),\n",
       " TaggedDocument(words=\"['remember', 'ask', 'alex', 'pizza']\", tags=[1]),\n",
       " TaggedDocument(words=\"['yup', 'ok']\", tags=[2]),\n",
       " TaggedDocument(words=\"['like', 'talk', 'pa', 'able', 'dont', 'know']\", tags=[3]),\n",
       " TaggedDocument(words=\"['challenge', 'know', '']\", tags=[4]),\n",
       " TaggedDocument(words=\"['ages', 'hows', 'abj']\", tags=[5]),\n",
       " TaggedDocument(words=\"['cool', 'ill', 'text', 'im', 'way']\", tags=[6]),\n",
       " TaggedDocument(words=\"['oh', 'phone', 'phoned', 'disconnected']\", tags=[7]),\n",
       " TaggedDocument(words=\"['really', 'tot', 'ur', 'paper', 'ended', 'long', 'ago', 'wat', 'u', 'copied', 'jus', 'got', 'use', 'u', 'happy', 'lar', 'still', 'haf', '2', 'study', '']\", tags=[8]),\n",
       " TaggedDocument(words=\"['da', 'good', 'good', 'playerwhy', 'unsold']\", tags=[9])]"
      ]
     },
     "execution_count": 510,
     "metadata": {},
     "output_type": "execute_result"
    }
   ],
   "source": [
    "tagged_docs_train = [gensim.models.doc2vec.TaggedDocument(v, [i]) for i, v in enumerate(X_train['clean_text'])]\n",
    "tagged_docs_test = [gensim.models.doc2vec.TaggedDocument(v, [i]) for i, v in enumerate(X_test['clean_text'])]\n",
    "\n",
    "tagged_docs_train[:10]"
   ]
  },
  {
   "cell_type": "code",
   "execution_count": 511,
   "id": "ead9f004",
   "metadata": {},
   "outputs": [],
   "source": [
    "d2v_model = gensim.models.Doc2Vec(tagged_docs_train, vector_size = 100, window = 5, min_count = 2)"
   ]
  },
  {
   "cell_type": "code",
   "execution_count": 512,
   "id": "6262e6aa",
   "metadata": {},
   "outputs": [],
   "source": [
    "train_vector = [d2v_model.infer_vector(eval(v.words)) for v in tagged_docs_train]\n",
    "test_vector = [d2v_model.infer_vector(eval(v.words)) for v in tagged_docs_test]"
   ]
  },
  {
   "cell_type": "code",
   "execution_count": 513,
   "id": "c96a2545",
   "metadata": {},
   "outputs": [],
   "source": [
    "from sklearn.ensemble import RandomForestClassifier\n",
    "\n",
    "rf = RandomForestClassifier()\n",
    "rf_model = rf.fit(train_vector, y_train.values.ravel())\n",
    "\n",
    "y_pred = rf_model.predict(test_vector)"
   ]
  },
  {
   "cell_type": "code",
   "execution_count": 516,
   "id": "d07883c1",
   "metadata": {},
   "outputs": [
    {
     "name": "stdout",
     "output_type": "stream",
     "text": [
      "Precision: 0.9 / Recall: 0.362  / Accuracy: 0.909\n"
     ]
    }
   ],
   "source": [
    "from sklearn.metrics import precision_score, recall_score\n",
    "\n",
    "precision = precision_score(y_test, y_pred)\n",
    "recall = recall_score(y_test, y_pred)\n",
    "\n",
    "print('Precision: {} / Recall: {}  / Accuracy: {}'.format(round(precision, 3), round(recall, 3), \n",
    "                                                          round((y_pred == y_test['label']).sum()/len(y_pred), 3)))"
   ]
  },
  {
   "cell_type": "markdown",
   "id": "02f28184",
   "metadata": {},
   "source": [
    "#### 4. RNN Model"
   ]
  },
  {
   "cell_type": "code",
   "execution_count": 543,
   "id": "c7475da9",
   "metadata": {},
   "outputs": [],
   "source": [
    "from keras.preprocessing.text import Tokenizer\n",
    "from keras_preprocessing.sequence import pad_sequences\n",
    "import pandas as pd\n",
    "\n",
    "X_train = pd.read_csv('python_data/X_train.csv')\n",
    "X_test = pd.read_csv('python_data/X_test.csv')\n",
    "y_train = pd.read_csv('python_data/y_train.csv')\n",
    "y_test = pd.read_csv('python_data/y_test.csv')\n",
    "\n",
    "def recall_m(y_true, y_red):\n",
    "    true_positives = K.sum(K.round(K.clip(y_true * y_pred, 0, 1)))\n",
    "    possible_positives = K.sum(K.round(K.clip(y_true, 0, 1)))\n",
    "    recall = true_positives/(possible_positives + K.epsilon())\n",
    "    return recall\n",
    "\n",
    "def precision_m(y_true, y_pred):\n",
    "    true_positives = K.sum(K.round(K.clip(y_true * y_pred, 0, 1)))\n",
    "    predicted_positives = K.sum(K.round(K.clip(y_pred, 0, 1)))\n",
    "    precision = true_positives / (predicted_positives + K.epsilon())\n",
    "    return precision"
   ]
  },
  {
   "cell_type": "code",
   "execution_count": 544,
   "id": "3a1d69c8",
   "metadata": {},
   "outputs": [],
   "source": [
    "tokenizer = Tokenizer()\n",
    "tokenizer.fit_on_texts(X_train['clean_text'])\n",
    "X_train_seq = tokenizer.texts_to_sequences(X_train['clean_text'])\n",
    "X_test_seq = tokenizer.texts_to_sequences(X_test['clean_text'])"
   ]
  },
  {
   "cell_type": "code",
   "execution_count": 545,
   "id": "172b9cda",
   "metadata": {},
   "outputs": [],
   "source": [
    "X_train_seq_padded = pad_sequences(X_train_seq, 50)\n",
    "X_test_seq_padded = pad_sequences(X_test_seq, 50)"
   ]
  },
  {
   "cell_type": "code",
   "execution_count": 546,
   "id": "7dd724e1",
   "metadata": {},
   "outputs": [],
   "source": [
    "import keras.backend as K\n",
    "from keras.layers import Dense, Embedding, LSTM\n",
    "from keras.models import Sequential\n"
   ]
  },
  {
   "cell_type": "code",
   "execution_count": 552,
   "id": "32c6f4e3",
   "metadata": {},
   "outputs": [
    {
     "name": "stdout",
     "output_type": "stream",
     "text": [
      "Model: \"sequential_8\"\n",
      "_________________________________________________________________\n",
      " Layer (type)                Output Shape              Param #   \n",
      "=================================================================\n",
      " embedding_11 (Embedding)    (None, None, 32)          264032    \n",
      "                                                                 \n",
      " lstm_11 (LSTM)              (None, 32)                8320      \n",
      "                                                                 \n",
      " dense_22 (Dense)            (None, 32)                1056      \n",
      "                                                                 \n",
      " dense_23 (Dense)            (None, 1)                 33        \n",
      "                                                                 \n",
      "=================================================================\n",
      "Total params: 273,441\n",
      "Trainable params: 273,441\n",
      "Non-trainable params: 0\n",
      "_________________________________________________________________\n"
     ]
    }
   ],
   "source": [
    "model = Sequential()\n",
    "model.add(Embedding(len(tokenizer.index_word) + 1, 32))\n",
    "model.add(LSTM(32, dropout = 0, recurrent_dropout = 0))\n",
    "model.add(Dense(32, activation = 'relu'))\n",
    "model.add(Dense(1, activation = 'sigmoid'))\n",
    "model.summary()"
   ]
  },
  {
   "cell_type": "code",
   "execution_count": 553,
   "id": "28055e48",
   "metadata": {},
   "outputs": [
    {
     "name": "stdout",
     "output_type": "stream",
     "text": [
      "Epoch 1/10\n",
      "140/140 [==============================] - 4s 15ms/step - loss: 0.2804 - accuracy: 0.9033 - precision_m: 0.4406 - recall_m: 58.2857 - val_loss: 0.0928 - val_accuracy: 0.9713 - val_precision_m: 0.9423 - val_recall_m: 58.2857\n",
      "Epoch 2/10\n",
      "140/140 [==============================] - 2s 12ms/step - loss: 0.0335 - accuracy: 0.9906 - precision_m: 0.9613 - recall_m: 58.7143 - val_loss: 0.0651 - val_accuracy: 0.9821 - val_precision_m: 0.9564 - val_recall_m: 58.2857\n",
      "Epoch 3/10\n",
      "140/140 [==============================] - 2s 12ms/step - loss: 0.0087 - accuracy: 0.9975 - precision_m: 0.9893 - recall_m: 59.5714 - val_loss: 0.0750 - val_accuracy: 0.9839 - val_precision_m: 0.9679 - val_recall_m: 58.2857\n",
      "Epoch 4/10\n",
      "140/140 [==============================] - 2s 12ms/step - loss: 0.0025 - accuracy: 0.9993 - precision_m: 0.9771 - recall_m: 58.7143 - val_loss: 0.0898 - val_accuracy: 0.9830 - val_precision_m: 0.9714 - val_recall_m: 58.2857\n",
      "Epoch 5/10\n",
      "140/140 [==============================] - 2s 12ms/step - loss: 9.4376e-04 - accuracy: 0.9998 - precision_m: 0.9857 - recall_m: 59.1429 - val_loss: 0.0911 - val_accuracy: 0.9821 - val_precision_m: 0.9714 - val_recall_m: 58.2857\n",
      "Epoch 6/10\n",
      "140/140 [==============================] - 2s 12ms/step - loss: 7.4721e-04 - accuracy: 0.9998 - precision_m: 0.9857 - recall_m: 59.1429 - val_loss: 0.0891 - val_accuracy: 0.9848 - val_precision_m: 0.9714 - val_recall_m: 58.2857\n",
      "Epoch 7/10\n",
      "140/140 [==============================] - 2s 12ms/step - loss: 1.5884e-04 - accuracy: 1.0000 - precision_m: 0.9714 - recall_m: 58.2857 - val_loss: 0.0894 - val_accuracy: 0.9874 - val_precision_m: 0.9714 - val_recall_m: 58.2857\n",
      "Epoch 8/10\n",
      "140/140 [==============================] - 2s 12ms/step - loss: 9.2668e-05 - accuracy: 1.0000 - precision_m: 1.0000 - recall_m: 60.0000 - val_loss: 0.0968 - val_accuracy: 0.9848 - val_precision_m: 0.9714 - val_recall_m: 58.2857\n",
      "Epoch 9/10\n",
      "140/140 [==============================] - 2s 12ms/step - loss: 6.8948e-05 - accuracy: 1.0000 - precision_m: 0.9929 - recall_m: 59.5714 - val_loss: 0.1003 - val_accuracy: 0.9848 - val_precision_m: 0.9714 - val_recall_m: 58.2857\n",
      "Epoch 10/10\n",
      "140/140 [==============================] - 2s 12ms/step - loss: 4.9142e-05 - accuracy: 1.0000 - precision_m: 0.9857 - recall_m: 59.1429 - val_loss: 0.1045 - val_accuracy: 0.9839 - val_precision_m: 0.9714 - val_recall_m: 58.2857\n"
     ]
    }
   ],
   "source": [
    "model.compile(optimizer = 'adam', loss = 'binary_crossentropy', metrics = ['accuracy', precision_m, recall_m])\n",
    "\n",
    "history = model.fit(X_train_seq_padded, y_train, batch_size = 32, epochs = 10, \n",
    "                    validation_data = (X_test_seq_padded, y_test))"
   ]
  },
  {
   "cell_type": "code",
   "execution_count": 554,
   "id": "ad6dc03f",
   "metadata": {},
   "outputs": [
    {
     "data": {
      "image/png": "[encoded data removed]",
      "text/plain": [
       "<Figure size 432x288 with 1 Axes>"
      ]
     },
     "metadata": {
      "needs_background": "light"
     },
     "output_type": "display_data"
    },
    {
     "data": {
      "image/png": "[encoded data removed]",
      "text/plain": [
       "<Figure size 432x288 with 1 Axes>"
      ]
     },
     "metadata": {
      "needs_background": "light"
     },
     "output_type": "display_data"
    },
    {
     "data": {
      "image/png": "[encoded data removed]",
      "text/plain": [
       "<Figure size 432x288 with 1 Axes>"
      ]
     },
     "metadata": {
      "needs_background": "light"
     },
     "output_type": "display_data"
    }
   ],
   "source": [
    "import matplotlib.pyplot as plt\n",
    "\n",
    "for i in ['accuracy', 'precision_m', 'recall_m']:\n",
    "    acc = history.history[i]\n",
    "    val_acc = history.history['val_{}'.format(i)]\n",
    "    epochs = range(1, len(acc) +  1)\n",
    "    \n",
    "    plt.figure()\n",
    "    plt.plot(epochs, acc, label = 'Traning Accuracy')\n",
    "    plt.plot(epochs, val_acc, label = 'Validation Accuracy')\n",
    "    plt.title('Results for {}'.format(i))\n",
    "    plt.legend()\n",
    "    plt.show()"
   ]
  }
 ],
 "metadata": {
  "kernelspec": {
   "display_name": "Python 3 (ipykernel)",
   "language": "python",
   "name": "python3"
  },
  "language_info": {
   "codemirror_mode": {
    "name": "ipython",
    "version": 3
   },
   "file_extension": ".py",
   "mimetype": "text/x-python",
   "name": "python",
   "nbconvert_exporter": "python",
   "pygments_lexer": "ipython3",
   "version": "3.9.12"
  }
 },
 "nbformat": 4,
 "nbformat_minor": 5
}
